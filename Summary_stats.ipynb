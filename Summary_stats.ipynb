{
  "nbformat": 4,
  "nbformat_minor": 0,
  "metadata": {
    "colab": {
      "name": "Summary_stats.ipynb",
      "provenance": [],
      "include_colab_link": true
    },
    "kernelspec": {
      "name": "python3",
      "display_name": "Python 3"
    }
  },
  "cells": [
    {
      "cell_type": "markdown",
      "metadata": {
        "id": "view-in-github",
        "colab_type": "text"
      },
      "source": [
        "<a href=\"https://colab.research.google.com/github/saidaZgl/Axiv/blob/master/Summary_stats.ipynb\" target=\"_parent\"><img src=\"https://colab.research.google.com/assets/colab-badge.svg\" alt=\"Open In Colab\"/></a>"
      ]
    },
    {
      "cell_type": "code",
      "metadata": {
        "id": "l-mvS8NNFQ8W",
        "colab_type": "code",
        "colab": {}
      },
      "source": [
        "# Import most popular libraries\n",
        "import pandas as pd\n",
        "import numpy as np\n",
        "from sklearn import datasets\n",
        "from sklearn import metrics\n",
        "import matplotlib.pyplot as plt"
      ],
      "execution_count": 0,
      "outputs": []
    },
    {
      "cell_type": "code",
      "metadata": {
        "id": "5vO15bimFdP5",
        "colab_type": "code",
        "colab": {}
      },
      "source": [
        "# Create Dataset: Age of People sorted by their way to go to work\n",
        "\n",
        "df = pd.DataFrame(\n",
        "    {'bike' : [21, 30, 17, 30, 24, 16, 29, 18], \n",
        "     'bus' : [75, 87, 49, 68, 75, 33, 60, 30], \n",
        "     'car' : [55, 34, 38, 66, 56, 66, 44, 40],\n",
        "     'uber' : [22, 34, 38, 66, 56, 33, 44, 30]\n",
        "    }\n",
        ")"
      ],
      "execution_count": 0,
      "outputs": []
    },
    {
      "cell_type": "code",
      "metadata": {
        "id": "opoui5AkGWg8",
        "colab_type": "code",
        "colab": {
          "base_uri": "https://localhost:8080/",
          "height": 102
        },
        "outputId": "8789d7e1-c24e-4475-87cd-719777cc8d75"
      },
      "source": [
        "# Calculation of Mean\n",
        "df.mean()"
      ],
      "execution_count": 3,
      "outputs": [
        {
          "output_type": "execute_result",
          "data": {
            "text/plain": [
              "bike    23.125\n",
              "bus     59.625\n",
              "car     49.875\n",
              "uber    40.375\n",
              "dtype: float64"
            ]
          },
          "metadata": {
            "tags": []
          },
          "execution_count": 3
        }
      ]
    },
    {
      "cell_type": "code",
      "metadata": {
        "id": "q8gCPADvGYkc",
        "colab_type": "code",
        "colab": {
          "base_uri": "https://localhost:8080/",
          "height": 102
        },
        "outputId": "bef28939-aaee-40a4-e48f-e3c08f0da599"
      },
      "source": [
        "# Calculation of Median\n",
        "df.median()"
      ],
      "execution_count": 4,
      "outputs": [
        {
          "output_type": "execute_result",
          "data": {
            "text/plain": [
              "bike    22.5\n",
              "bus     64.0\n",
              "car     49.5\n",
              "uber    36.0\n",
              "dtype: float64"
            ]
          },
          "metadata": {
            "tags": []
          },
          "execution_count": 4
        }
      ]
    },
    {
      "cell_type": "code",
      "metadata": {
        "id": "vrV7xloGGfpC",
        "colab_type": "code",
        "colab": {
          "base_uri": "https://localhost:8080/",
          "height": 297
        },
        "outputId": "34615939-6877-4a02-bc90-691bfc477881"
      },
      "source": [
        "# Calculation of Mode\n",
        "df.mode()"
      ],
      "execution_count": 5,
      "outputs": [
        {
          "output_type": "execute_result",
          "data": {
            "text/html": [
              "<div>\n",
              "<style scoped>\n",
              "    .dataframe tbody tr th:only-of-type {\n",
              "        vertical-align: middle;\n",
              "    }\n",
              "\n",
              "    .dataframe tbody tr th {\n",
              "        vertical-align: top;\n",
              "    }\n",
              "\n",
              "    .dataframe thead th {\n",
              "        text-align: right;\n",
              "    }\n",
              "</style>\n",
              "<table border=\"1\" class=\"dataframe\">\n",
              "  <thead>\n",
              "    <tr style=\"text-align: right;\">\n",
              "      <th></th>\n",
              "      <th>bike</th>\n",
              "      <th>bus</th>\n",
              "      <th>car</th>\n",
              "      <th>uber</th>\n",
              "    </tr>\n",
              "  </thead>\n",
              "  <tbody>\n",
              "    <tr>\n",
              "      <th>0</th>\n",
              "      <td>30.0</td>\n",
              "      <td>75.0</td>\n",
              "      <td>66.0</td>\n",
              "      <td>22</td>\n",
              "    </tr>\n",
              "    <tr>\n",
              "      <th>1</th>\n",
              "      <td>NaN</td>\n",
              "      <td>NaN</td>\n",
              "      <td>NaN</td>\n",
              "      <td>30</td>\n",
              "    </tr>\n",
              "    <tr>\n",
              "      <th>2</th>\n",
              "      <td>NaN</td>\n",
              "      <td>NaN</td>\n",
              "      <td>NaN</td>\n",
              "      <td>33</td>\n",
              "    </tr>\n",
              "    <tr>\n",
              "      <th>3</th>\n",
              "      <td>NaN</td>\n",
              "      <td>NaN</td>\n",
              "      <td>NaN</td>\n",
              "      <td>34</td>\n",
              "    </tr>\n",
              "    <tr>\n",
              "      <th>4</th>\n",
              "      <td>NaN</td>\n",
              "      <td>NaN</td>\n",
              "      <td>NaN</td>\n",
              "      <td>38</td>\n",
              "    </tr>\n",
              "    <tr>\n",
              "      <th>5</th>\n",
              "      <td>NaN</td>\n",
              "      <td>NaN</td>\n",
              "      <td>NaN</td>\n",
              "      <td>44</td>\n",
              "    </tr>\n",
              "    <tr>\n",
              "      <th>6</th>\n",
              "      <td>NaN</td>\n",
              "      <td>NaN</td>\n",
              "      <td>NaN</td>\n",
              "      <td>56</td>\n",
              "    </tr>\n",
              "    <tr>\n",
              "      <th>7</th>\n",
              "      <td>NaN</td>\n",
              "      <td>NaN</td>\n",
              "      <td>NaN</td>\n",
              "      <td>66</td>\n",
              "    </tr>\n",
              "  </tbody>\n",
              "</table>\n",
              "</div>"
            ],
            "text/plain": [
              "   bike   bus   car  uber\n",
              "0  30.0  75.0  66.0    22\n",
              "1   NaN   NaN   NaN    30\n",
              "2   NaN   NaN   NaN    33\n",
              "3   NaN   NaN   NaN    34\n",
              "4   NaN   NaN   NaN    38\n",
              "5   NaN   NaN   NaN    44\n",
              "6   NaN   NaN   NaN    56\n",
              "7   NaN   NaN   NaN    66"
            ]
          },
          "metadata": {
            "tags": []
          },
          "execution_count": 5
        }
      ]
    },
    {
      "cell_type": "code",
      "metadata": {
        "id": "ZPT-DrKQGk8J",
        "colab_type": "code",
        "colab": {
          "base_uri": "https://localhost:8080/",
          "height": 102
        },
        "outputId": "be5478ba-0f49-4991-8317-6d1cbda427a8"
      },
      "source": [
        "# Calculation of Max & Min\n",
        "df.max()\n",
        "df.min()"
      ],
      "execution_count": 6,
      "outputs": [
        {
          "output_type": "execute_result",
          "data": {
            "text/plain": [
              "bike    16\n",
              "bus     30\n",
              "car     34\n",
              "uber    22\n",
              "dtype: int64"
            ]
          },
          "metadata": {
            "tags": []
          },
          "execution_count": 6
        }
      ]
    },
    {
      "cell_type": "code",
      "metadata": {
        "id": "pxvl4xXoGosu",
        "colab_type": "code",
        "colab": {
          "base_uri": "https://localhost:8080/",
          "height": 119
        },
        "outputId": "dba6f9bc-8322-4a70-97f0-de3374df7c2e"
      },
      "source": [
        "# Calculation of Quartile\n",
        "print (\"show the 25% Quartile\")\n",
        "df.quantile(.25)"
      ],
      "execution_count": 7,
      "outputs": [
        {
          "output_type": "stream",
          "text": [
            "show the 25% Quartile\n"
          ],
          "name": "stdout"
        },
        {
          "output_type": "execute_result",
          "data": {
            "text/plain": [
              "bike    17.75\n",
              "bus     45.00\n",
              "car     39.50\n",
              "uber    32.25\n",
              "Name: 0.25, dtype: float64"
            ]
          },
          "metadata": {
            "tags": []
          },
          "execution_count": 7
        }
      ]
    },
    {
      "cell_type": "code",
      "metadata": {
        "id": "ORdkmH0qGug0",
        "colab_type": "code",
        "colab": {
          "base_uri": "https://localhost:8080/",
          "height": 285
        },
        "outputId": "04fd1044-f997-4939-c4a9-6dc3d8ebf237"
      },
      "source": [
        "# Show Box Plot\n",
        "df[\"bike\"].plot(kind=\"box\")\n",
        "df[\"bus\"].plot(kind=\"box\")\n",
        "df[\"car\"].plot(kind=\"box\")\n",
        "df[\"uber\"].plot(kind=\"box\")\n"
      ],
      "execution_count": 8,
      "outputs": [
        {
          "output_type": "execute_result",
          "data": {
            "text/plain": [
              "<matplotlib.axes._subplots.AxesSubplot at 0x7fee15fc5f28>"
            ]
          },
          "metadata": {
            "tags": []
          },
          "execution_count": 8
        },
        {
          "output_type": "display_data",
          "data": {
            "image/png": "[encoded data removed]",
            "text/plain": [
              "<Figure size 432x288 with 1 Axes>"
            ]
          },
          "metadata": {
            "tags": []
          }
        }
      ]
    },
    {
      "cell_type": "code",
      "metadata": {
        "id": "A2c8EjQWG0Hb",
        "colab_type": "code",
        "colab": {}
      },
      "source": [
        "# Calculate the mean of 1 column\n",
        "mean = df[\"bike\"].mean()"
      ],
      "execution_count": 0,
      "outputs": []
    },
    {
      "cell_type": "code",
      "metadata": {
        "id": "nrdgk_NGG5SL",
        "colab_type": "code",
        "colab": {}
      },
      "source": [
        "# Calculate the number of rows in a column\n",
        "n = df[\"bike\"].count()"
      ],
      "execution_count": 0,
      "outputs": []
    },
    {
      "cell_type": "code",
      "metadata": {
        "id": "6PJ0AEhaG-MX",
        "colab_type": "code",
        "colab": {}
      },
      "source": [
        "# Calculate Standard Deviation\n",
        "standard_deviation = df[\"bike\"].std()"
      ],
      "execution_count": 0,
      "outputs": []
    },
    {
      "cell_type": "code",
      "metadata": {
        "id": "0ZHOt-IMHBsX",
        "colab_type": "code",
        "colab": {
          "base_uri": "https://localhost:8080/",
          "height": 297
        },
        "outputId": "b41d3015-26db-4804-dbc6-0869d1a76b0f"
      },
      "source": [
        "# Describe all statistics calculations at once \n",
        "df.describe()"
      ],
      "execution_count": 13,
      "outputs": [
        {
          "output_type": "execute_result",
          "data": {
            "text/html": [
              "<div>\n",
              "<style scoped>\n",
              "    .dataframe tbody tr th:only-of-type {\n",
              "        vertical-align: middle;\n",
              "    }\n",
              "\n",
              "    .dataframe tbody tr th {\n",
              "        vertical-align: top;\n",
              "    }\n",
              "\n",
              "    .dataframe thead th {\n",
              "        text-align: right;\n",
              "    }\n",
              "</style>\n",
              "<table border=\"1\" class=\"dataframe\">\n",
              "  <thead>\n",
              "    <tr style=\"text-align: right;\">\n",
              "      <th></th>\n",
              "      <th>bike</th>\n",
              "      <th>bus</th>\n",
              "      <th>car</th>\n",
              "      <th>uber</th>\n",
              "    </tr>\n",
              "  </thead>\n",
              "  <tbody>\n",
              "    <tr>\n",
              "      <th>count</th>\n",
              "      <td>8.000000</td>\n",
              "      <td>8.000000</td>\n",
              "      <td>8.000000</td>\n",
              "      <td>8.000000</td>\n",
              "    </tr>\n",
              "    <tr>\n",
              "      <th>mean</th>\n",
              "      <td>23.125000</td>\n",
              "      <td>59.625000</td>\n",
              "      <td>49.875000</td>\n",
              "      <td>40.375000</td>\n",
              "    </tr>\n",
              "    <tr>\n",
              "      <th>std</th>\n",
              "      <td>5.962682</td>\n",
              "      <td>20.673914</td>\n",
              "      <td>12.586132</td>\n",
              "      <td>14.441384</td>\n",
              "    </tr>\n",
              "    <tr>\n",
              "      <th>min</th>\n",
              "      <td>16.000000</td>\n",
              "      <td>30.000000</td>\n",
              "      <td>34.000000</td>\n",
              "      <td>22.000000</td>\n",
              "    </tr>\n",
              "    <tr>\n",
              "      <th>25%</th>\n",
              "      <td>17.750000</td>\n",
              "      <td>45.000000</td>\n",
              "      <td>39.500000</td>\n",
              "      <td>32.250000</td>\n",
              "    </tr>\n",
              "    <tr>\n",
              "      <th>50%</th>\n",
              "      <td>22.500000</td>\n",
              "      <td>64.000000</td>\n",
              "      <td>49.500000</td>\n",
              "      <td>36.000000</td>\n",
              "    </tr>\n",
              "    <tr>\n",
              "      <th>75%</th>\n",
              "      <td>29.250000</td>\n",
              "      <td>75.000000</td>\n",
              "      <td>58.500000</td>\n",
              "      <td>47.000000</td>\n",
              "    </tr>\n",
              "    <tr>\n",
              "      <th>max</th>\n",
              "      <td>30.000000</td>\n",
              "      <td>87.000000</td>\n",
              "      <td>66.000000</td>\n",
              "      <td>66.000000</td>\n",
              "    </tr>\n",
              "  </tbody>\n",
              "</table>\n",
              "</div>"
            ],
            "text/plain": [
              "            bike        bus        car       uber\n",
              "count   8.000000   8.000000   8.000000   8.000000\n",
              "mean   23.125000  59.625000  49.875000  40.375000\n",
              "std     5.962682  20.673914  12.586132  14.441384\n",
              "min    16.000000  30.000000  34.000000  22.000000\n",
              "25%    17.750000  45.000000  39.500000  32.250000\n",
              "50%    22.500000  64.000000  49.500000  36.000000\n",
              "75%    29.250000  75.000000  58.500000  47.000000\n",
              "max    30.000000  87.000000  66.000000  66.000000"
            ]
          },
          "metadata": {
            "tags": []
          },
          "execution_count": 13
        }
      ]
    }
  ]
}